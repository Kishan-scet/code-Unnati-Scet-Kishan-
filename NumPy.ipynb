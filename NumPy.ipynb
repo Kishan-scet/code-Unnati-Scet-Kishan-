{
 "cells": [
  {
   "cell_type": "code",
   "execution_count": 52,
   "id": "120529d0",
   "metadata": {},
   "outputs": [],
   "source": [
    "#import numpy libray\n",
    "\n",
    "import numpy as np\n",
    "import random "
   ]
  },
  {
   "cell_type": "code",
   "execution_count": 53,
   "id": "9c12799f",
   "metadata": {},
   "outputs": [
    {
     "data": {
      "text/plain": [
       "array([[4, 5, 6, 5],\n",
       "       [5, 6, 7, 8]])"
      ]
     },
     "execution_count": 53,
     "metadata": {},
     "output_type": "execute_result"
    }
   ],
   "source": [
    "#creat simple array from the list\n",
    "\n",
    "arr = np.array([[4,5,6,5],[5,6,7,8]])\n",
    "arr"
   ]
  },
  {
   "cell_type": "code",
   "execution_count": 54,
   "id": "22f52674",
   "metadata": {},
   "outputs": [
    {
     "data": {
      "text/plain": [
       "2"
      ]
     },
     "execution_count": 54,
     "metadata": {},
     "output_type": "execute_result"
    }
   ],
   "source": [
    "arr.ndim # dimension"
   ]
  },
  {
   "cell_type": "code",
   "execution_count": 55,
   "id": "4b122cf3",
   "metadata": {},
   "outputs": [
    {
     "data": {
      "text/plain": [
       "(2, 4)"
      ]
     },
     "execution_count": 55,
     "metadata": {},
     "output_type": "execute_result"
    }
   ],
   "source": [
    "arr.shape #shape of array"
   ]
  },
  {
   "cell_type": "code",
   "execution_count": 56,
   "id": "a4f0104f",
   "metadata": {},
   "outputs": [
    {
     "data": {
      "text/plain": [
       "numpy.ndarray"
      ]
     },
     "execution_count": 56,
     "metadata": {},
     "output_type": "execute_result"
    }
   ],
   "source": [
    "type (arr)"
   ]
  },
  {
   "cell_type": "code",
   "execution_count": 57,
   "id": "3322f385",
   "metadata": {},
   "outputs": [
    {
     "data": {
      "text/plain": [
       "<memory at 0x000001DD5A4512B0>"
      ]
     },
     "execution_count": 57,
     "metadata": {},
     "output_type": "execute_result"
    }
   ],
   "source": [
    "arr.data #memory Location"
   ]
  },
  {
   "cell_type": "markdown",
   "id": "9038e18c",
   "metadata": {},
   "source": [
    "# Random number generator using numpy"
   ]
  },
  {
   "cell_type": "code",
   "execution_count": 59,
   "id": "a0d85f9c",
   "metadata": {},
   "outputs": [
    {
     "data": {
      "text/plain": [
       "1875"
      ]
     },
     "execution_count": 59,
     "metadata": {},
     "output_type": "execute_result"
    }
   ],
   "source": [
    "x= np.random.randint(2000)\n",
    "x"
   ]
  },
  {
   "cell_type": "code",
   "execution_count": 61,
   "id": "9c9a9d7c",
   "metadata": {},
   "outputs": [
    {
     "data": {
      "text/plain": [
       "0.961692380120991"
      ]
     },
     "execution_count": 61,
     "metadata": {},
     "output_type": "execute_result"
    }
   ],
   "source": [
    "#generate random float\n",
    "\n",
    "x= np.random.rand()\n",
    "x"
   ]
  },
  {
   "cell_type": "code",
   "execution_count": 62,
   "id": "68b84178",
   "metadata": {},
   "outputs": [
    {
     "data": {
      "text/plain": [
       "array([0.22216179, 0.69284681, 0.38977165, 0.33808201, 0.27668152])"
      ]
     },
     "execution_count": 62,
     "metadata": {},
     "output_type": "execute_result"
    }
   ],
   "source": [
    "x= np.random.rand(5)\n",
    "x"
   ]
  },
  {
   "cell_type": "code",
   "execution_count": 63,
   "id": "982bf9ad",
   "metadata": {},
   "outputs": [
    {
     "data": {
      "text/plain": [
       "array([54, 39, 58, 77, 37])"
      ]
     },
     "execution_count": 63,
     "metadata": {},
     "output_type": "execute_result"
    }
   ],
   "source": [
    "x= np.random.randint(100, size=(5))\n",
    "x"
   ]
  },
  {
   "cell_type": "code",
   "execution_count": 64,
   "id": "13358410",
   "metadata": {},
   "outputs": [
    {
     "name": "stdout",
     "output_type": "stream",
     "text": [
      "[18 65 29 95 83]\n"
     ]
    }
   ],
   "source": [
    "x= np.random.randint(100, size=(5))\n",
    "print(x)"
   ]
  },
  {
   "cell_type": "code",
   "execution_count": 67,
   "id": "24ade89d",
   "metadata": {},
   "outputs": [
    {
     "data": {
      "text/plain": [
       "array([[36, 94, 87, 93, 63],\n",
       "       [37, 54, 65, 42, 74],\n",
       "       [46, 15, 37, 13,  3]])"
      ]
     },
     "execution_count": 67,
     "metadata": {},
     "output_type": "execute_result"
    }
   ],
   "source": [
    "x= np.random.randint(100, size=(3,5))\n",
    "x"
   ]
  },
  {
   "cell_type": "code",
   "execution_count": 68,
   "id": "03290bc0",
   "metadata": {},
   "outputs": [
    {
     "data": {
      "text/plain": [
       "2"
      ]
     },
     "execution_count": 68,
     "metadata": {},
     "output_type": "execute_result"
    }
   ],
   "source": [
    "x.ndim"
   ]
  },
  {
   "cell_type": "markdown",
   "id": "cd1e62b1",
   "metadata": {},
   "source": [
    "# x=10 random integer array 0 to 1000\n"
   ]
  },
  {
   "cell_type": "markdown",
   "id": "c3052326",
   "metadata": {},
   "source": [
    "# y= 10 random integer array 0 to 500\n"
   ]
  },
  {
   "cell_type": "markdown",
   "id": "8d3cf712",
   "metadata": {},
   "source": [
    "# math operation"
   ]
  },
  {
   "cell_type": "code",
   "execution_count": 69,
   "id": "b166fcf2",
   "metadata": {},
   "outputs": [
    {
     "data": {
      "text/plain": [
       "array([930, 973, 835, 837, 768, 696, 617, 685, 503,   6])"
      ]
     },
     "execution_count": 69,
     "metadata": {},
     "output_type": "execute_result"
    }
   ],
   "source": [
    "x= np.random.randint(1000, size=(10))\n",
    "x"
   ]
  },
  {
   "cell_type": "code",
   "execution_count": 71,
   "id": "ebe99038",
   "metadata": {},
   "outputs": [
    {
     "data": {
      "text/plain": [
       "array([142,  13, 196, 407, 360, 151, 307, 100,  12, 128])"
      ]
     },
     "execution_count": 71,
     "metadata": {},
     "output_type": "execute_result"
    }
   ],
   "source": [
    "y= np.random.randint(500, size=(10))\n",
    "y"
   ]
  },
  {
   "cell_type": "code",
   "execution_count": 72,
   "id": "1215dbba",
   "metadata": {},
   "outputs": [
    {
     "data": {
      "text/plain": [
       "array([1072,  986, 1031, 1244, 1128,  847,  924,  785,  515,  134])"
      ]
     },
     "execution_count": 72,
     "metadata": {},
     "output_type": "execute_result"
    }
   ],
   "source": [
    "z =x+y\n",
    "z"
   ]
  },
  {
   "cell_type": "code",
   "execution_count": 73,
   "id": "d7dda633",
   "metadata": {},
   "outputs": [
    {
     "data": {
      "text/plain": [
       "array([ 788,  960,  639,  430,  408,  545,  310,  585,  491, -122])"
      ]
     },
     "execution_count": 73,
     "metadata": {},
     "output_type": "execute_result"
    }
   ],
   "source": [
    "z =x-y\n",
    "z"
   ]
  },
  {
   "cell_type": "code",
   "execution_count": 74,
   "id": "50cd3e99",
   "metadata": {},
   "outputs": [
    {
     "data": {
      "text/plain": [
       "array([132060,  12649, 163660, 340659, 276480, 105096, 189419,  68500,\n",
       "         6036,    768])"
      ]
     },
     "execution_count": 74,
     "metadata": {},
     "output_type": "execute_result"
    }
   ],
   "source": [
    "z= x*y\n",
    "z"
   ]
  },
  {
   "cell_type": "code",
   "execution_count": 76,
   "id": "0b0cb730",
   "metadata": {},
   "outputs": [
    {
     "data": {
      "text/plain": [
       "array([4.61218012e-02, 5.75739645e+00, 2.17357351e-02, 5.05285272e-03,\n",
       "       5.92592593e-03, 3.05249770e-02, 6.54648856e-03, 6.85000000e-02,\n",
       "       3.49305556e+00, 3.66210938e-04])"
      ]
     },
     "execution_count": 76,
     "metadata": {},
     "output_type": "execute_result"
    }
   ],
   "source": [
    "z= x/y\n",
    "z"
   ]
  },
  {
   "cell_type": "code",
   "execution_count": 77,
   "id": "bce6725d",
   "metadata": {},
   "outputs": [
    {
     "data": {
      "text/plain": [
       "array([7.93658720e+115, 2.31314759e+024, 2.33538889e+123, 2.78187011e+127,\n",
       "       2.89160479e+118, 1.61612943e+100, 1.16429783e+093, 3.70729503e+083,\n",
       "       2.94198780e+019, 7.59423329e-171])"
      ]
     },
     "execution_count": 77,
     "metadata": {},
     "output_type": "execute_result"
    }
   ],
   "source": [
    "z= x**y\n",
    "z"
   ]
  },
  {
   "cell_type": "code",
   "execution_count": 78,
   "id": "0184eb3f",
   "metadata": {},
   "outputs": [
    {
     "data": {
      "text/plain": [
       "matrix([[1, 2],\n",
       "        [3, 4]])"
      ]
     },
     "execution_count": 78,
     "metadata": {},
     "output_type": "execute_result"
    }
   ],
   "source": [
    "a= np.matrix('1 2;3 4')\n",
    "a"
   ]
  },
  {
   "cell_type": "code",
   "execution_count": 79,
   "id": "44a7883a",
   "metadata": {},
   "outputs": [
    {
     "data": {
      "text/plain": [
       "matrix([[5, 4, 3],\n",
       "        [4, 5, 7]])"
      ]
     },
     "execution_count": 79,
     "metadata": {},
     "output_type": "execute_result"
    }
   ],
   "source": [
    "#array like input\n",
    "b= np.matrix([[5,4,3],[4,5,7]])\n",
    "b"
   ]
  },
  {
   "cell_type": "markdown",
   "id": "e36c9039",
   "metadata": {},
   "source": [
    "# measurement of central tendency using numpy"
   ]
  },
  {
   "cell_type": "code",
   "execution_count": 85,
   "id": "41f7d132",
   "metadata": {},
   "outputs": [
    {
     "name": "stdout",
     "output_type": "stream",
     "text": [
      "[[ 1 56 67]\n",
      " [ 5 54 66]\n",
      " [ 2  3  4]]\n"
     ]
    },
    {
     "data": {
      "text/plain": [
       "(3, 3)"
      ]
     },
     "execution_count": 85,
     "metadata": {},
     "output_type": "execute_result"
    }
   ],
   "source": [
    "arr= np.array([[1,56,67], [5,54,66], [2,3,4]])\n",
    "print(arr)\n",
    "arr.shape"
   ]
  },
  {
   "cell_type": "code",
   "execution_count": 86,
   "id": "a5e064ee",
   "metadata": {},
   "outputs": [
    {
     "data": {
      "text/plain": [
       "1"
      ]
     },
     "execution_count": 86,
     "metadata": {},
     "output_type": "execute_result"
    }
   ],
   "source": [
    "np.amin(arr) #minimum value"
   ]
  },
  {
   "cell_type": "code",
   "execution_count": 87,
   "id": "31300398",
   "metadata": {},
   "outputs": [
    {
     "data": {
      "text/plain": [
       "67"
      ]
     },
     "execution_count": 87,
     "metadata": {},
     "output_type": "execute_result"
    }
   ],
   "source": [
    "np.amax(arr) #maximun value"
   ]
  },
  {
   "cell_type": "code",
   "execution_count": 88,
   "id": "ff04d4af",
   "metadata": {},
   "outputs": [
    {
     "data": {
      "text/plain": [
       "28.666666666666668"
      ]
     },
     "execution_count": 88,
     "metadata": {},
     "output_type": "execute_result"
    }
   ],
   "source": [
    "np.mean(arr) #mean"
   ]
  },
  {
   "cell_type": "code",
   "execution_count": 89,
   "id": "7dd6dff1",
   "metadata": {},
   "outputs": [
    {
     "data": {
      "text/plain": [
       "839.5555555555554"
      ]
     },
     "execution_count": 89,
     "metadata": {},
     "output_type": "execute_result"
    }
   ],
   "source": [
    "np.var(arr) #variance"
   ]
  },
  {
   "cell_type": "code",
   "execution_count": 91,
   "id": "83b08859",
   "metadata": {},
   "outputs": [
    {
     "data": {
      "text/plain": [
       "28.975085082800973"
      ]
     },
     "execution_count": 91,
     "metadata": {},
     "output_type": "execute_result"
    }
   ],
   "source": [
    "np.std(arr) #standard deviation"
   ]
  },
  {
   "cell_type": "code",
   "execution_count": 92,
   "id": "b4c6808d",
   "metadata": {},
   "outputs": [
    {
     "data": {
      "text/plain": [
       "5.0"
      ]
     },
     "execution_count": 92,
     "metadata": {},
     "output_type": "execute_result"
    }
   ],
   "source": [
    "np.median(arr) #median"
   ]
  },
  {
   "cell_type": "code",
   "execution_count": null,
   "id": "ce8ebbc3",
   "metadata": {},
   "outputs": [],
   "source": []
  }
 ],
 "metadata": {
  "kernelspec": {
   "display_name": "Python 3 (ipykernel)",
   "language": "python",
   "name": "python3"
  },
  "language_info": {
   "codemirror_mode": {
    "name": "ipython",
    "version": 3
   },
   "file_extension": ".py",
   "mimetype": "text/x-python",
   "name": "python",
   "nbconvert_exporter": "python",
   "pygments_lexer": "ipython3",
   "version": "3.9.13"
  }
 },
 "nbformat": 4,
 "nbformat_minor": 5
}
