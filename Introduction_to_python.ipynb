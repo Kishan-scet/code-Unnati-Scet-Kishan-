{
 "cells": [
  {
   "cell_type": "markdown",
   "id": "181e5ad1",
   "metadata": {},
   "source": [
    "# basic math operation"
   ]
  },
  {
   "cell_type": "code",
   "execution_count": 1,
   "id": "423658aa",
   "metadata": {},
   "outputs": [
    {
     "data": {
      "text/plain": [
       "-1"
      ]
     },
     "execution_count": 1,
     "metadata": {},
     "output_type": "execute_result"
    }
   ],
   "source": [
    "8-9"
   ]
  },
  {
   "cell_type": "code",
   "execution_count": 2,
   "id": "24ba3dc1",
   "metadata": {},
   "outputs": [
    {
     "data": {
      "text/plain": [
       "16"
      ]
     },
     "execution_count": 2,
     "metadata": {},
     "output_type": "execute_result"
    }
   ],
   "source": [
    "7+9"
   ]
  },
  {
   "cell_type": "code",
   "execution_count": 3,
   "id": "978bed55",
   "metadata": {},
   "outputs": [
    {
     "data": {
      "text/plain": [
       "30"
      ]
     },
     "execution_count": 3,
     "metadata": {},
     "output_type": "execute_result"
    }
   ],
   "source": [
    "6*5"
   ]
  },
  {
   "cell_type": "code",
   "execution_count": 4,
   "id": "a5a7c721",
   "metadata": {},
   "outputs": [
    {
     "data": {
      "text/plain": [
       "27"
      ]
     },
     "execution_count": 4,
     "metadata": {},
     "output_type": "execute_result"
    }
   ],
   "source": [
    "3**3"
   ]
  },
  {
   "cell_type": "code",
   "execution_count": 5,
   "id": "2acbad3b",
   "metadata": {},
   "outputs": [
    {
     "data": {
      "text/plain": [
       "-21860"
      ]
     },
     "execution_count": 5,
     "metadata": {},
     "output_type": "execute_result"
    }
   ],
   "source": [
    "6+9-7*5**5"
   ]
  },
  {
   "cell_type": "code",
   "execution_count": 6,
   "id": "1df7d6b6",
   "metadata": {},
   "outputs": [
    {
     "data": {
      "text/plain": [
       "0.8888888888888888"
      ]
     },
     "execution_count": 6,
     "metadata": {},
     "output_type": "execute_result"
    }
   ],
   "source": [
    "8/9"
   ]
  },
  {
   "cell_type": "code",
   "execution_count": 7,
   "id": "b8826a36",
   "metadata": {},
   "outputs": [
    {
     "name": "stdout",
     "output_type": "stream",
     "text": [
      "Namaste SCET\n"
     ]
    }
   ],
   "source": [
    "#my first python program\n",
    "\n",
    "print(\"Namaste SCET\")\n"
   ]
  },
  {
   "cell_type": "markdown",
   "id": "9caa43d6",
   "metadata": {},
   "source": [
    "# Variable"
   ]
  },
  {
   "cell_type": "code",
   "execution_count": 8,
   "id": "146a8081",
   "metadata": {},
   "outputs": [],
   "source": [
    "a=60\n",
    "b=99.99999"
   ]
  },
  {
   "cell_type": "code",
   "execution_count": 9,
   "id": "c7c90686",
   "metadata": {},
   "outputs": [
    {
     "data": {
      "text/plain": [
       "60"
      ]
     },
     "execution_count": 9,
     "metadata": {},
     "output_type": "execute_result"
    }
   ],
   "source": [
    "a"
   ]
  },
  {
   "cell_type": "code",
   "execution_count": 10,
   "id": "81521db6",
   "metadata": {},
   "outputs": [
    {
     "data": {
      "text/plain": [
       "99.99999"
      ]
     },
     "execution_count": 10,
     "metadata": {},
     "output_type": "execute_result"
    }
   ],
   "source": [
    "b"
   ]
  },
  {
   "cell_type": "markdown",
   "id": "becb474c",
   "metadata": {},
   "source": [
    "# To print something"
   ]
  },
  {
   "cell_type": "code",
   "execution_count": 11,
   "id": "3e72c49a",
   "metadata": {},
   "outputs": [
    {
     "name": "stdout",
     "output_type": "stream",
     "text": [
      "99.99999\n"
     ]
    }
   ],
   "source": [
    "print(b)"
   ]
  },
  {
   "cell_type": "code",
   "execution_count": 12,
   "id": "af253ec6",
   "metadata": {},
   "outputs": [
    {
     "data": {
      "text/plain": [
       "int"
      ]
     },
     "execution_count": 12,
     "metadata": {},
     "output_type": "execute_result"
    }
   ],
   "source": [
    "type(a)"
   ]
  },
  {
   "cell_type": "code",
   "execution_count": 13,
   "id": "91f13561",
   "metadata": {},
   "outputs": [
    {
     "data": {
      "text/plain": [
       "float"
      ]
     },
     "execution_count": 13,
     "metadata": {},
     "output_type": "execute_result"
    }
   ],
   "source": [
    "type(b)"
   ]
  },
  {
   "cell_type": "code",
   "execution_count": 14,
   "id": "98e75dc9",
   "metadata": {},
   "outputs": [],
   "source": [
    "c=\"SCET\""
   ]
  },
  {
   "cell_type": "code",
   "execution_count": 15,
   "id": "7aaa1611",
   "metadata": {},
   "outputs": [
    {
     "data": {
      "text/plain": [
       "'SCET'"
      ]
     },
     "execution_count": 15,
     "metadata": {},
     "output_type": "execute_result"
    }
   ],
   "source": [
    "c"
   ]
  },
  {
   "cell_type": "code",
   "execution_count": 16,
   "id": "b6719f32",
   "metadata": {},
   "outputs": [
    {
     "data": {
      "text/plain": [
       "str"
      ]
     },
     "execution_count": 16,
     "metadata": {},
     "output_type": "execute_result"
    }
   ],
   "source": [
    "type(c)"
   ]
  },
  {
   "cell_type": "code",
   "execution_count": 18,
   "id": "d9f279e4",
   "metadata": {},
   "outputs": [],
   "source": [
    "d=True"
   ]
  },
  {
   "cell_type": "code",
   "execution_count": 19,
   "id": "959eb238",
   "metadata": {},
   "outputs": [
    {
     "data": {
      "text/plain": [
       "True"
      ]
     },
     "execution_count": 19,
     "metadata": {},
     "output_type": "execute_result"
    }
   ],
   "source": [
    "d"
   ]
  },
  {
   "cell_type": "code",
   "execution_count": 20,
   "id": "9bf1086f",
   "metadata": {},
   "outputs": [
    {
     "data": {
      "text/plain": [
       "bool"
      ]
     },
     "execution_count": 20,
     "metadata": {},
     "output_type": "execute_result"
    }
   ],
   "source": [
    "type(d)"
   ]
  },
  {
   "cell_type": "markdown",
   "id": "3bc3bc93",
   "metadata": {},
   "source": [
    "# Math operation on variable"
   ]
  },
  {
   "cell_type": "code",
   "execution_count": 21,
   "id": "55359545",
   "metadata": {},
   "outputs": [],
   "source": [
    "a=7\n",
    "b=5\n",
    "c=23\n",
    "d=344"
   ]
  },
  {
   "cell_type": "code",
   "execution_count": 22,
   "id": "3e0a4c81",
   "metadata": {},
   "outputs": [
    {
     "data": {
      "text/plain": [
       "12"
      ]
     },
     "execution_count": 22,
     "metadata": {},
     "output_type": "execute_result"
    }
   ],
   "source": [
    "a+b"
   ]
  },
  {
   "cell_type": "code",
   "execution_count": 23,
   "id": "d84aad31",
   "metadata": {},
   "outputs": [
    {
     "data": {
      "text/plain": [
       "-18"
      ]
     },
     "execution_count": 23,
     "metadata": {},
     "output_type": "execute_result"
    }
   ],
   "source": [
    "b-c"
   ]
  },
  {
   "cell_type": "code",
   "execution_count": 24,
   "id": "0064a784",
   "metadata": {},
   "outputs": [
    {
     "data": {
      "text/plain": [
       "49.142857142857146"
      ]
     },
     "execution_count": 24,
     "metadata": {},
     "output_type": "execute_result"
    }
   ],
   "source": [
    "d/a"
   ]
  },
  {
   "cell_type": "code",
   "execution_count": 25,
   "id": "105b3b7f",
   "metadata": {},
   "outputs": [
    {
     "data": {
      "text/plain": [
       "2408"
      ]
     },
     "execution_count": 25,
     "metadata": {},
     "output_type": "execute_result"
    }
   ],
   "source": [
    "a*d"
   ]
  },
  {
   "cell_type": "code",
   "execution_count": 26,
   "id": "27c718d9",
   "metadata": {},
   "outputs": [
    {
     "data": {
      "text/plain": [
       "-1118.2857142857142"
      ]
     },
     "execution_count": 26,
     "metadata": {},
     "output_type": "execute_result"
    }
   ],
   "source": [
    "a+b-c*d/a"
   ]
  },
  {
   "cell_type": "markdown",
   "id": "43296e86",
   "metadata": {},
   "source": [
    "# Use input keyword from the user"
   ]
  },
  {
   "cell_type": "code",
   "execution_count": 33,
   "id": "26b844c5",
   "metadata": {},
   "outputs": [
    {
     "name": "stdout",
     "output_type": "stream",
     "text": [
      "enter the value of x:90\n"
     ]
    }
   ],
   "source": [
    "x = int(input(\"enter the value of x:\"))\n"
   ]
  },
  {
   "cell_type": "code",
   "execution_count": 34,
   "id": "63f1d917",
   "metadata": {},
   "outputs": [
    {
     "data": {
      "text/plain": [
       "90"
      ]
     },
     "execution_count": 34,
     "metadata": {},
     "output_type": "execute_result"
    }
   ],
   "source": [
    "x"
   ]
  },
  {
   "cell_type": "code",
   "execution_count": 36,
   "id": "6660b8c9",
   "metadata": {},
   "outputs": [
    {
     "name": "stdout",
     "output_type": "stream",
     "text": [
      "enter the value of x:7\n",
      "enter the value of y:9\n",
      "40353607\n"
     ]
    }
   ],
   "source": [
    "x = int(input(\"enter the value of x:\")) \n",
    "y = int(input(\"enter the value of y:\")) \n",
    "z=x**y #power of x,y\n",
    "print(z)"
   ]
  },
  {
   "cell_type": "markdown",
   "id": "24eb8bf6",
   "metadata": {},
   "source": [
    "# String concatenation"
   ]
  },
  {
   "cell_type": "code",
   "execution_count": 37,
   "id": "4254a6ba",
   "metadata": {},
   "outputs": [],
   "source": [
    "str1=\"Kishan\"\n",
    "str2=\"Parekh\" \n",
    "str3=\" \""
   ]
  },
  {
   "cell_type": "code",
   "execution_count": 38,
   "id": "efadaf2f",
   "metadata": {},
   "outputs": [
    {
     "data": {
      "text/plain": [
       "'Kishan'"
      ]
     },
     "execution_count": 38,
     "metadata": {},
     "output_type": "execute_result"
    }
   ],
   "source": [
    "str1"
   ]
  },
  {
   "cell_type": "code",
   "execution_count": 39,
   "id": "1194d1a1",
   "metadata": {},
   "outputs": [
    {
     "data": {
      "text/plain": [
       "'Parekh'"
      ]
     },
     "execution_count": 39,
     "metadata": {},
     "output_type": "execute_result"
    }
   ],
   "source": [
    "str2"
   ]
  },
  {
   "cell_type": "code",
   "execution_count": 40,
   "id": "4633bb51",
   "metadata": {},
   "outputs": [
    {
     "data": {
      "text/plain": [
       "str"
      ]
     },
     "execution_count": 40,
     "metadata": {},
     "output_type": "execute_result"
    }
   ],
   "source": [
    "type(str1)"
   ]
  },
  {
   "cell_type": "code",
   "execution_count": 44,
   "id": "849baa79",
   "metadata": {},
   "outputs": [
    {
     "data": {
      "text/plain": [
       "'Kishan Parekh'"
      ]
     },
     "execution_count": 44,
     "metadata": {},
     "output_type": "execute_result"
    }
   ],
   "source": [
    "str4=str1 + str3 + str2\n",
    "str4"
   ]
  },
  {
   "cell_type": "code",
   "execution_count": 45,
   "id": "8f5ef787",
   "metadata": {},
   "outputs": [
    {
     "data": {
      "text/plain": [
       "'s'"
      ]
     },
     "execution_count": 45,
     "metadata": {},
     "output_type": "execute_result"
    }
   ],
   "source": [
    "#string sclicing\n",
    "str4[2]"
   ]
  },
  {
   "cell_type": "code",
   "execution_count": 46,
   "id": "b7b7466d",
   "metadata": {},
   "outputs": [
    {
     "data": {
      "text/plain": [
       "'Kish'"
      ]
     },
     "execution_count": 46,
     "metadata": {},
     "output_type": "execute_result"
    }
   ],
   "source": [
    "str4[0:4] "
   ]
  },
  {
   "cell_type": "code",
   "execution_count": 47,
   "id": "ea2e5a4d",
   "metadata": {},
   "outputs": [
    {
     "data": {
      "text/plain": [
       "'rekh'"
      ]
     },
     "execution_count": 47,
     "metadata": {},
     "output_type": "execute_result"
    }
   ],
   "source": [
    "str4[-4:]"
   ]
  },
  {
   "cell_type": "code",
   "execution_count": 48,
   "id": "c62531a2",
   "metadata": {},
   "outputs": [
    {
     "data": {
      "text/plain": [
       "'han Parekh'"
      ]
     },
     "execution_count": 48,
     "metadata": {},
     "output_type": "execute_result"
    }
   ],
   "source": [
    "str4[3:]"
   ]
  },
  {
   "cell_type": "markdown",
   "id": "4b204890",
   "metadata": {},
   "source": [
    "# Tuples in python"
   ]
  },
  {
   "cell_type": "code",
   "execution_count": 49,
   "id": "544f7cf3",
   "metadata": {},
   "outputs": [],
   "source": [
    "tup1=(\"Scet\" ,22,  \"Bharat\" ,45.5,  \"Surat\", 99)"
   ]
  },
  {
   "cell_type": "code",
   "execution_count": 50,
   "id": "20da80ae",
   "metadata": {},
   "outputs": [
    {
     "data": {
      "text/plain": [
       "('Scet', 22, 'Bharat', 45.5, 'Surat', 99)"
      ]
     },
     "execution_count": 50,
     "metadata": {},
     "output_type": "execute_result"
    }
   ],
   "source": [
    "tup1"
   ]
  },
  {
   "cell_type": "code",
   "execution_count": 51,
   "id": "b41b758c",
   "metadata": {},
   "outputs": [
    {
     "data": {
      "text/plain": [
       "tuple"
      ]
     },
     "execution_count": 51,
     "metadata": {},
     "output_type": "execute_result"
    }
   ],
   "source": [
    "type(tup1)"
   ]
  },
  {
   "cell_type": "code",
   "execution_count": 52,
   "id": "d8f9ea49",
   "metadata": {},
   "outputs": [
    {
     "data": {
      "text/plain": [
       "'Bharat'"
      ]
     },
     "execution_count": 52,
     "metadata": {},
     "output_type": "execute_result"
    }
   ],
   "source": [
    "tup1[2]"
   ]
  },
  {
   "cell_type": "code",
   "execution_count": 54,
   "id": "a4d9a1f9",
   "metadata": {},
   "outputs": [
    {
     "data": {
      "text/plain": [
       "'Scet'"
      ]
     },
     "execution_count": 54,
     "metadata": {},
     "output_type": "execute_result"
    }
   ],
   "source": [
    "tup1[0]"
   ]
  },
  {
   "cell_type": "code",
   "execution_count": 55,
   "id": "bc8e8dd9",
   "metadata": {},
   "outputs": [
    {
     "data": {
      "text/plain": [
       "(22, 'Bharat', 45.5)"
      ]
     },
     "execution_count": 55,
     "metadata": {},
     "output_type": "execute_result"
    }
   ],
   "source": [
    "tup1[1:4]"
   ]
  },
  {
   "cell_type": "code",
   "execution_count": 56,
   "id": "c11eaac3",
   "metadata": {},
   "outputs": [
    {
     "data": {
      "text/plain": [
       "('Bharat', 45.5, 'Surat', 99)"
      ]
     },
     "execution_count": 56,
     "metadata": {},
     "output_type": "execute_result"
    }
   ],
   "source": [
    "tup1[-4:]"
   ]
  },
  {
   "cell_type": "code",
   "execution_count": 57,
   "id": "c28652c7",
   "metadata": {},
   "outputs": [],
   "source": [
    "tup2 = (\"electrical\" , \"EE\" , \"EC\")"
   ]
  },
  {
   "cell_type": "code",
   "execution_count": 58,
   "id": "2b3c5a42",
   "metadata": {},
   "outputs": [],
   "source": [
    "tup3 = tup1 + tup2"
   ]
  },
  {
   "cell_type": "code",
   "execution_count": 59,
   "id": "be18dee3",
   "metadata": {},
   "outputs": [
    {
     "data": {
      "text/plain": [
       "('Scet', 22, 'Bharat', 45.5, 'Surat', 99, 'electrical', 'EE', 'EC')"
      ]
     },
     "execution_count": 59,
     "metadata": {},
     "output_type": "execute_result"
    }
   ],
   "source": [
    "tup3"
   ]
  },
  {
   "cell_type": "code",
   "execution_count": 60,
   "id": "4fea4737",
   "metadata": {},
   "outputs": [
    {
     "data": {
      "text/plain": [
       "9"
      ]
     },
     "execution_count": 60,
     "metadata": {},
     "output_type": "execute_result"
    }
   ],
   "source": [
    "len(tup3)"
   ]
  },
  {
   "cell_type": "code",
   "execution_count": 61,
   "id": "1ba89313",
   "metadata": {},
   "outputs": [
    {
     "data": {
      "text/plain": [
       "6"
      ]
     },
     "execution_count": 61,
     "metadata": {},
     "output_type": "execute_result"
    }
   ],
   "source": [
    "len(tup1)"
   ]
  },
  {
   "cell_type": "code",
   "execution_count": 62,
   "id": "607d8d69",
   "metadata": {},
   "outputs": [
    {
     "data": {
      "text/plain": [
       "3"
      ]
     },
     "execution_count": 62,
     "metadata": {},
     "output_type": "execute_result"
    }
   ],
   "source": [
    "len(tup2)"
   ]
  },
  {
   "cell_type": "code",
   "execution_count": 63,
   "id": "30c26383",
   "metadata": {},
   "outputs": [
    {
     "ename": "TypeError",
     "evalue": "'tuple' object doesn't support item deletion",
     "output_type": "error",
     "traceback": [
      "\u001b[1;31m---------------------------------------------------------------------------\u001b[0m",
      "\u001b[1;31mTypeError\u001b[0m                                 Traceback (most recent call last)",
      "\u001b[1;32m~\\AppData\\Local\\Temp\\ipykernel_4872\\3857915713.py\u001b[0m in \u001b[0;36m<module>\u001b[1;34m\u001b[0m\n\u001b[0;32m      1\u001b[0m \u001b[1;31m#immutable\u001b[0m\u001b[1;33m\u001b[0m\u001b[1;33m\u001b[0m\u001b[0m\n\u001b[0;32m      2\u001b[0m \u001b[1;33m\u001b[0m\u001b[0m\n\u001b[1;32m----> 3\u001b[1;33m \u001b[1;32mdel\u001b[0m \u001b[0mtup3\u001b[0m\u001b[1;33m[\u001b[0m\u001b[1;36m3\u001b[0m\u001b[1;33m]\u001b[0m\u001b[1;33m\u001b[0m\u001b[1;33m\u001b[0m\u001b[0m\n\u001b[0m\u001b[0;32m      4\u001b[0m \u001b[0mprint\u001b[0m\u001b[1;33m(\u001b[0m\u001b[0mtup3\u001b[0m\u001b[1;33m)\u001b[0m\u001b[1;33m\u001b[0m\u001b[1;33m\u001b[0m\u001b[0m\n",
      "\u001b[1;31mTypeError\u001b[0m: 'tuple' object doesn't support item deletion"
     ]
    }
   ],
   "source": [
    "#immutable\n",
    "\n",
    "del tup3[3]\n",
    "print(tup3)"
   ]
  },
  {
   "cell_type": "markdown",
   "id": "57778167",
   "metadata": {},
   "source": [
    "# List in python"
   ]
  },
  {
   "cell_type": "code",
   "execution_count": 65,
   "id": "535b710d",
   "metadata": {},
   "outputs": [
    {
     "data": {
      "text/plain": [
       "list"
      ]
     },
     "execution_count": 65,
     "metadata": {},
     "output_type": "execute_result"
    }
   ],
   "source": [
    "lst1 = [\"Scet\" ,22,  \"Bharat\" ,45.5,  \"Surat\", 99]\n",
    "type(lst1)"
   ]
  },
  {
   "cell_type": "code",
   "execution_count": 66,
   "id": "f6cd2110",
   "metadata": {},
   "outputs": [],
   "source": [
    "lst1.remove(22)"
   ]
  },
  {
   "cell_type": "code",
   "execution_count": 67,
   "id": "0a894242",
   "metadata": {},
   "outputs": [
    {
     "data": {
      "text/plain": [
       "['Scet', 'Bharat', 45.5, 'Surat', 99]"
      ]
     },
     "execution_count": 67,
     "metadata": {},
     "output_type": "execute_result"
    }
   ],
   "source": [
    "lst1"
   ]
  },
  {
   "cell_type": "markdown",
   "id": "aa90e878",
   "metadata": {},
   "source": [
    "# Dictionary"
   ]
  },
  {
   "cell_type": "code",
   "execution_count": 72,
   "id": "407775d4",
   "metadata": {},
   "outputs": [],
   "source": [
    "dic1 = {\"university\" : \"GTU\" , \"Course\" : \"Electrical\" , \"Subject\" : \"Python\"}"
   ]
  },
  {
   "cell_type": "code",
   "execution_count": 73,
   "id": "1faaabc0",
   "metadata": {},
   "outputs": [
    {
     "data": {
      "text/plain": [
       "{'university': 'GTU', 'Course': 'Electrical', 'Subject': 'Python'}"
      ]
     },
     "execution_count": 73,
     "metadata": {},
     "output_type": "execute_result"
    }
   ],
   "source": [
    "dic1"
   ]
  },
  {
   "cell_type": "code",
   "execution_count": 74,
   "id": "dd85555e",
   "metadata": {},
   "outputs": [
    {
     "data": {
      "text/plain": [
       "dict"
      ]
     },
     "execution_count": 74,
     "metadata": {},
     "output_type": "execute_result"
    }
   ],
   "source": [
    "type(dic1)"
   ]
  },
  {
   "cell_type": "code",
   "execution_count": 75,
   "id": "dc904ba0",
   "metadata": {},
   "outputs": [
    {
     "name": "stdout",
     "output_type": "stream",
     "text": [
      "dict_keys(['university', 'Course', 'Subject'])\n"
     ]
    }
   ],
   "source": [
    "#print only key values\n",
    "print(dic1.keys())"
   ]
  },
  {
   "cell_type": "code",
   "execution_count": 76,
   "id": "3267eaa9",
   "metadata": {},
   "outputs": [
    {
     "name": "stdout",
     "output_type": "stream",
     "text": [
      "dict_values(['GTU', 'Electrical', 'Python'])\n"
     ]
    }
   ],
   "source": [
    "#print only values\n",
    "print(dic1.values())"
   ]
  },
  {
   "cell_type": "code",
   "execution_count": 80,
   "id": "b13c44e7",
   "metadata": {},
   "outputs": [],
   "source": [
    "from math import pi"
   ]
  },
  {
   "cell_type": "code",
   "execution_count": 81,
   "id": "d83bcf6d",
   "metadata": {},
   "outputs": [
    {
     "data": {
      "text/plain": [
       "3.141592653589793"
      ]
     },
     "execution_count": 81,
     "metadata": {},
     "output_type": "execute_result"
    }
   ],
   "source": [
    "pi"
   ]
  },
  {
   "cell_type": "code",
   "execution_count": 86,
   "id": "524edfab",
   "metadata": {},
   "outputs": [
    {
     "data": {
      "text/plain": [
       "78.53981633974483"
      ]
     },
     "execution_count": 86,
     "metadata": {},
     "output_type": "execute_result"
    }
   ],
   "source": [
    "#Area of circle\n",
    "r=5\n",
    "Area=pi*(r**2)\n",
    "Area"
   ]
  },
  {
   "cell_type": "code",
   "execution_count": 88,
   "id": "5c7ea74f",
   "metadata": {},
   "outputs": [
    {
     "data": {
      "text/plain": [
       "78.53981633974483"
      ]
     },
     "execution_count": 88,
     "metadata": {},
     "output_type": "execute_result"
    }
   ],
   "source": [
    "r=5\n",
    "Area=pi*r*r\n",
    "Area"
   ]
  },
  {
   "cell_type": "markdown",
   "id": "674774ab",
   "metadata": {},
   "source": [
    "# loop"
   ]
  },
  {
   "cell_type": "code",
   "execution_count": 89,
   "id": "9b128e23",
   "metadata": {},
   "outputs": [
    {
     "name": "stdout",
     "output_type": "stream",
     "text": [
      "0\n",
      "1\n",
      "2\n",
      "3\n",
      "4\n",
      "5\n",
      "6\n",
      "7\n",
      "8\n",
      "9\n"
     ]
    }
   ],
   "source": [
    "for i in range (10):\n",
    "    print(i)"
   ]
  },
  {
   "cell_type": "code",
   "execution_count": 7,
   "id": "99a1c211",
   "metadata": {},
   "outputs": [
    {
     "name": "stdout",
     "output_type": "stream",
     "text": [
      "0\n",
      "1\n",
      "2\n",
      "3\n",
      "4\n",
      "5\n",
      "6\n",
      "7\n",
      "8\n",
      "9\n",
      "10\n",
      "11\n",
      "12\n",
      "13\n",
      "14\n",
      "15\n",
      "16\n",
      "17\n",
      "18\n",
      "19\n",
      "20\n",
      "21\n",
      "22\n",
      "23\n",
      "24\n",
      "25\n",
      "26\n",
      "27\n",
      "28\n",
      "29\n",
      "30\n",
      "31\n",
      "32\n",
      "33\n",
      "34\n",
      "35\n",
      "36\n",
      "37\n",
      "38\n",
      "39\n",
      "40\n",
      "41\n",
      "42\n",
      "43\n",
      "44\n",
      "45\n",
      "46\n",
      "47\n",
      "48\n",
      "49\n"
     ]
    }
   ],
   "source": [
    "for i in range (50):\n",
    "    print(i)"
   ]
  },
  {
   "cell_type": "code",
   "execution_count": 2,
   "id": "79c3bcc4",
   "metadata": {},
   "outputs": [
    {
     "name": "stdout",
     "output_type": "stream",
     "text": [
      "5 is a positive number\n"
     ]
    }
   ],
   "source": [
    "#IF Statement\n",
    "num=5\n",
    "if num>0: \n",
    "    print(num, \"is a positive number\")"
   ]
  },
  {
   "cell_type": "code",
   "execution_count": 3,
   "id": "1fa9954d",
   "metadata": {},
   "outputs": [],
   "source": [
    "num=-5\n",
    "if num>0:\n",
    "    print(num, \"is a negative number\")"
   ]
  },
  {
   "cell_type": "code",
   "execution_count": 4,
   "id": "85eca826",
   "metadata": {},
   "outputs": [
    {
     "name": "stdout",
     "output_type": "stream",
     "text": [
      "10 is a positive number\n"
     ]
    }
   ],
   "source": [
    "#IF ELSE Statment\n",
    "num= 10 \n",
    "if num >5:\n",
    "    print(num, \"is a positive number\")\n",
    "else:\n",
    "    print(\"negative number\")"
   ]
  },
  {
   "cell_type": "code",
   "execution_count": 5,
   "id": "a3eb8997",
   "metadata": {},
   "outputs": [
    {
     "name": "stdout",
     "output_type": "stream",
     "text": [
      "0 is a positive number\n"
     ]
    }
   ],
   "source": [
    "#neted if\n",
    "\n",
    "num= 0\n",
    "if num >= 0:\n",
    "    if num == 0:\n",
    "        print(\"Zero\")\n",
    "    else:\n",
    "            print(num, \"is a positive number\")\n",
    "else:\n",
    "    print(\"negative number\")"
   ]
  },
  {
   "cell_type": "code",
   "execution_count": null,
   "id": "df2e1f8c",
   "metadata": {},
   "outputs": [],
   "source": []
  }
 ],
 "metadata": {
  "kernelspec": {
   "display_name": "Python 3 (ipykernel)",
   "language": "python",
   "name": "python3"
  },
  "language_info": {
   "codemirror_mode": {
    "name": "ipython",
    "version": 3
   },
   "file_extension": ".py",
   "mimetype": "text/x-python",
   "name": "python",
   "nbconvert_exporter": "python",
   "pygments_lexer": "ipython3",
   "version": "3.9.13"
  }
 },
 "nbformat": 4,
 "nbformat_minor": 5
}
